{
  "nbformat": 4,
  "nbformat_minor": 0,
  "metadata": {
    "colab": {
      "name": "RandomForest_baseline.ipynb",
      "provenance": []
    },
    "kernelspec": {
      "name": "python3",
      "display_name": "Python 3"
    },
    "language_info": {
      "name": "python"
    }
  },
  "cells": [
    {
      "cell_type": "code",
      "execution_count": null,
      "metadata": {
        "id": "qCm7LJTHrS6L"
      },
      "outputs": [],
      "source": [
        "import pickle5 as pickle\n",
        "import gzip\n",
        "import pandas as pd\n",
        "import numpy as np\n",
        "from pymatgen.util import coord"
      ]
    },
    {
      "cell_type": "code",
      "source": [
        "with gzip.open('data.pickle.gz', 'rb') as fh:\n",
        "    data = pickle.load(fh, )"
      ],
      "metadata": {
        "id": "KRSxLThHsU-f"
      },
      "execution_count": null,
      "outputs": []
    },
    {
      "cell_type": "code",
      "source": [
        "s = []\n",
        "for j in range(data.shape[0]):\n",
        "    x0 = np.sum(np.array([str(i) for i in data.iloc[j].defect_representation.species]) == 'X0+')\n",
        "    all = len(data.iloc[j].defect_representation.species)\n",
        "    if(all == 3 and (x0 == 3)):\n",
        "      s.append(j)"
      ],
      "metadata": {
        "id": "DIW12rAcsVMJ"
      },
      "execution_count": null,
      "outputs": []
    },
    {
      "cell_type": "code",
      "source": [
        "d = {'ro1':[],'ro2':[],'ro3':[],'energy':[]}\n",
        "for j in s:\n",
        "  en = data.iloc[j].formation_energy\n",
        "  ro1 = ((data.iloc[j].defect_representation[0].coords[0] - data.iloc[j].defect_representation[1].coords[0])**2 + (data.iloc[j].defect_representation[0].coords[1] - data.iloc[j].defect_representation[1].coords[1])**2 + (data.iloc[j].defect_representation[0].coords[2] - data.iloc[j].defect_representation[1].coords[2])**2)**0.5\n",
        "  ro2 = ((data.iloc[j].defect_representation[0].coords[0] - data.iloc[j].defect_representation[2].coords[0])**2 + (data.iloc[j].defect_representation[0].coords[1] - data.iloc[j].defect_representation[2].coords[1])**2 + (data.iloc[j].defect_representation[0].coords[2] - data.iloc[j].defect_representation[2].coords[2])**2)**0.5\n",
        "  ro3 = ((data.iloc[j].defect_representation[1].coords[0] - data.iloc[j].defect_representation[2].coords[0])**2 + (data.iloc[j].defect_representation[1].coords[1] - data.iloc[j].defect_representation[2].coords[1])**2 + (data.iloc[j].defect_representation[1].coords[2] - data.iloc[j].defect_representation[2].coords[2])**2)**0.5\n",
        "  d['ro1'].append(ro1)\n",
        "  d['ro2'].append(ro2)\n",
        "  d['ro3'].append(ro3)\n",
        "  d['energy'].append(en)\n"
      ],
      "metadata": {
        "id": "nsOyU7XG1Daa"
      },
      "execution_count": null,
      "outputs": []
    },
    {
      "cell_type": "code",
      "source": [
        "newdata = pd.DataFrame(d)"
      ],
      "metadata": {
        "id": "UzlTtqCZ4v8B"
      },
      "execution_count": null,
      "outputs": []
    },
    {
      "cell_type": "code",
      "source": [
        "newdata"
      ],
      "metadata": {
        "colab": {
          "base_uri": "https://localhost:8080/",
          "height": 424
        },
        "id": "pS1kcupf5sCF",
        "outputId": "6a328c53-1dfd-4889-b7ef-9b423d4abe01"
      },
      "execution_count": null,
      "outputs": [
        {
          "output_type": "execute_result",
          "data": {
            "text/plain": [
              "           ro1        ro2        ro3   energy\n",
              "0     8.152838  24.801408  16.881564  12.4277\n",
              "1    19.290876  16.160313  21.152352  12.4425\n",
              "2    13.014986  15.785635  27.987493  12.4463\n",
              "3     8.152838   3.987968   8.440782  12.3509\n",
              "4    12.958557   2.426649  14.252973  10.4563\n",
              "..         ...        ...        ...      ...\n",
              "738   2.392859  23.966589  22.103156  10.4708\n",
              "739  10.384248  10.392087   4.465555  12.4951\n",
              "740  14.847332  12.958557  27.628944  12.4557\n",
              "741  20.790129  20.790129  19.395236  11.4473\n",
              "742   5.091086   5.091086   4.465555  11.7560\n",
              "\n",
              "[743 rows x 4 columns]"
            ],
            "text/html": [
              "\n",
              "  <div id=\"df-e77ec064-04a3-4c35-9e26-19e7ae31b4bf\">\n",
              "    <div class=\"colab-df-container\">\n",
              "      <div>\n",
              "<style scoped>\n",
              "    .dataframe tbody tr th:only-of-type {\n",
              "        vertical-align: middle;\n",
              "    }\n",
              "\n",
              "    .dataframe tbody tr th {\n",
              "        vertical-align: top;\n",
              "    }\n",
              "\n",
              "    .dataframe thead th {\n",
              "        text-align: right;\n",
              "    }\n",
              "</style>\n",
              "<table border=\"1\" class=\"dataframe\">\n",
              "  <thead>\n",
              "    <tr style=\"text-align: right;\">\n",
              "      <th></th>\n",
              "      <th>ro1</th>\n",
              "      <th>ro2</th>\n",
              "      <th>ro3</th>\n",
              "      <th>energy</th>\n",
              "    </tr>\n",
              "  </thead>\n",
              "  <tbody>\n",
              "    <tr>\n",
              "      <th>0</th>\n",
              "      <td>8.152838</td>\n",
              "      <td>24.801408</td>\n",
              "      <td>16.881564</td>\n",
              "      <td>12.4277</td>\n",
              "    </tr>\n",
              "    <tr>\n",
              "      <th>1</th>\n",
              "      <td>19.290876</td>\n",
              "      <td>16.160313</td>\n",
              "      <td>21.152352</td>\n",
              "      <td>12.4425</td>\n",
              "    </tr>\n",
              "    <tr>\n",
              "      <th>2</th>\n",
              "      <td>13.014986</td>\n",
              "      <td>15.785635</td>\n",
              "      <td>27.987493</td>\n",
              "      <td>12.4463</td>\n",
              "    </tr>\n",
              "    <tr>\n",
              "      <th>3</th>\n",
              "      <td>8.152838</td>\n",
              "      <td>3.987968</td>\n",
              "      <td>8.440782</td>\n",
              "      <td>12.3509</td>\n",
              "    </tr>\n",
              "    <tr>\n",
              "      <th>4</th>\n",
              "      <td>12.958557</td>\n",
              "      <td>2.426649</td>\n",
              "      <td>14.252973</td>\n",
              "      <td>10.4563</td>\n",
              "    </tr>\n",
              "    <tr>\n",
              "      <th>...</th>\n",
              "      <td>...</td>\n",
              "      <td>...</td>\n",
              "      <td>...</td>\n",
              "      <td>...</td>\n",
              "    </tr>\n",
              "    <tr>\n",
              "      <th>738</th>\n",
              "      <td>2.392859</td>\n",
              "      <td>23.966589</td>\n",
              "      <td>22.103156</td>\n",
              "      <td>10.4708</td>\n",
              "    </tr>\n",
              "    <tr>\n",
              "      <th>739</th>\n",
              "      <td>10.384248</td>\n",
              "      <td>10.392087</td>\n",
              "      <td>4.465555</td>\n",
              "      <td>12.4951</td>\n",
              "    </tr>\n",
              "    <tr>\n",
              "      <th>740</th>\n",
              "      <td>14.847332</td>\n",
              "      <td>12.958557</td>\n",
              "      <td>27.628944</td>\n",
              "      <td>12.4557</td>\n",
              "    </tr>\n",
              "    <tr>\n",
              "      <th>741</th>\n",
              "      <td>20.790129</td>\n",
              "      <td>20.790129</td>\n",
              "      <td>19.395236</td>\n",
              "      <td>11.4473</td>\n",
              "    </tr>\n",
              "    <tr>\n",
              "      <th>742</th>\n",
              "      <td>5.091086</td>\n",
              "      <td>5.091086</td>\n",
              "      <td>4.465555</td>\n",
              "      <td>11.7560</td>\n",
              "    </tr>\n",
              "  </tbody>\n",
              "</table>\n",
              "<p>743 rows × 4 columns</p>\n",
              "</div>\n",
              "      <button class=\"colab-df-convert\" onclick=\"convertToInteractive('df-e77ec064-04a3-4c35-9e26-19e7ae31b4bf')\"\n",
              "              title=\"Convert this dataframe to an interactive table.\"\n",
              "              style=\"display:none;\">\n",
              "        \n",
              "  <svg xmlns=\"http://www.w3.org/2000/svg\" height=\"24px\"viewBox=\"0 0 24 24\"\n",
              "       width=\"24px\">\n",
              "    <path d=\"M0 0h24v24H0V0z\" fill=\"none\"/>\n",
              "    <path d=\"M18.56 5.44l.94 2.06.94-2.06 2.06-.94-2.06-.94-.94-2.06-.94 2.06-2.06.94zm-11 1L8.5 8.5l.94-2.06 2.06-.94-2.06-.94L8.5 2.5l-.94 2.06-2.06.94zm10 10l.94 2.06.94-2.06 2.06-.94-2.06-.94-.94-2.06-.94 2.06-2.06.94z\"/><path d=\"M17.41 7.96l-1.37-1.37c-.4-.4-.92-.59-1.43-.59-.52 0-1.04.2-1.43.59L10.3 9.45l-7.72 7.72c-.78.78-.78 2.05 0 2.83L4 21.41c.39.39.9.59 1.41.59.51 0 1.02-.2 1.41-.59l7.78-7.78 2.81-2.81c.8-.78.8-2.07 0-2.86zM5.41 20L4 18.59l7.72-7.72 1.47 1.35L5.41 20z\"/>\n",
              "  </svg>\n",
              "      </button>\n",
              "      \n",
              "  <style>\n",
              "    .colab-df-container {\n",
              "      display:flex;\n",
              "      flex-wrap:wrap;\n",
              "      gap: 12px;\n",
              "    }\n",
              "\n",
              "    .colab-df-convert {\n",
              "      background-color: #E8F0FE;\n",
              "      border: none;\n",
              "      border-radius: 50%;\n",
              "      cursor: pointer;\n",
              "      display: none;\n",
              "      fill: #1967D2;\n",
              "      height: 32px;\n",
              "      padding: 0 0 0 0;\n",
              "      width: 32px;\n",
              "    }\n",
              "\n",
              "    .colab-df-convert:hover {\n",
              "      background-color: #E2EBFA;\n",
              "      box-shadow: 0px 1px 2px rgba(60, 64, 67, 0.3), 0px 1px 3px 1px rgba(60, 64, 67, 0.15);\n",
              "      fill: #174EA6;\n",
              "    }\n",
              "\n",
              "    [theme=dark] .colab-df-convert {\n",
              "      background-color: #3B4455;\n",
              "      fill: #D2E3FC;\n",
              "    }\n",
              "\n",
              "    [theme=dark] .colab-df-convert:hover {\n",
              "      background-color: #434B5C;\n",
              "      box-shadow: 0px 1px 3px 1px rgba(0, 0, 0, 0.15);\n",
              "      filter: drop-shadow(0px 1px 2px rgba(0, 0, 0, 0.3));\n",
              "      fill: #FFFFFF;\n",
              "    }\n",
              "  </style>\n",
              "\n",
              "      <script>\n",
              "        const buttonEl =\n",
              "          document.querySelector('#df-e77ec064-04a3-4c35-9e26-19e7ae31b4bf button.colab-df-convert');\n",
              "        buttonEl.style.display =\n",
              "          google.colab.kernel.accessAllowed ? 'block' : 'none';\n",
              "\n",
              "        async function convertToInteractive(key) {\n",
              "          const element = document.querySelector('#df-e77ec064-04a3-4c35-9e26-19e7ae31b4bf');\n",
              "          const dataTable =\n",
              "            await google.colab.kernel.invokeFunction('convertToInteractive',\n",
              "                                                     [key], {});\n",
              "          if (!dataTable) return;\n",
              "\n",
              "          const docLinkHtml = 'Like what you see? Visit the ' +\n",
              "            '<a target=\"_blank\" href=https://colab.research.google.com/notebooks/data_table.ipynb>data table notebook</a>'\n",
              "            + ' to learn more about interactive tables.';\n",
              "          element.innerHTML = '';\n",
              "          dataTable['output_type'] = 'display_data';\n",
              "          await google.colab.output.renderOutput(dataTable, element);\n",
              "          const docLink = document.createElement('div');\n",
              "          docLink.innerHTML = docLinkHtml;\n",
              "          element.appendChild(docLink);\n",
              "        }\n",
              "      </script>\n",
              "    </div>\n",
              "  </div>\n",
              "  "
            ]
          },
          "metadata": {},
          "execution_count": 9
        }
      ]
    },
    {
      "cell_type": "code",
      "source": [
        "from sklearn.ensemble import RandomForestRegressor\n",
        "from sklearn.model_selection import train_test_split"
      ],
      "metadata": {
        "id": "xvt6DtaU6Vn2"
      },
      "execution_count": null,
      "outputs": []
    },
    {
      "cell_type": "code",
      "source": [
        "X_train, X_test, y_train, y_test = train_test_split(newdata[['ro1']], newdata['energy'], test_size=0.33, random_state=42)"
      ],
      "metadata": {
        "id": "IzPsMqKG7kBm"
      },
      "execution_count": null,
      "outputs": []
    },
    {
      "cell_type": "code",
      "source": [
        "forest = RandomForestRegressor()"
      ],
      "metadata": {
        "id": "wVBbypMU9gnq"
      },
      "execution_count": null,
      "outputs": []
    },
    {
      "cell_type": "code",
      "source": [
        "forest.fit(X_train,y_train)\n"
      ],
      "metadata": {
        "colab": {
          "base_uri": "https://localhost:8080/"
        },
        "id": "RkpezRGI8FHI",
        "outputId": "175a48a1-b74b-4e20-c63f-23487ac797ac"
      },
      "execution_count": null,
      "outputs": [
        {
          "output_type": "execute_result",
          "data": {
            "text/plain": [
              "RandomForestRegressor()"
            ]
          },
          "metadata": {},
          "execution_count": 34
        }
      ]
    },
    {
      "cell_type": "code",
      "source": [
        "np.sum((forest.predict(X_test) - y_test)**2)/y_test.shape[0]"
      ],
      "metadata": {
        "colab": {
          "base_uri": "https://localhost:8080/"
        },
        "id": "9UzdQym-9wX6",
        "outputId": "384e7d73-7ba7-4088-921c-3dbe7f8171d6"
      },
      "execution_count": null,
      "outputs": [
        {
          "output_type": "execute_result",
          "data": {
            "text/plain": [
              "0.20807345495480065"
            ]
          },
          "metadata": {},
          "execution_count": 37
        }
      ]
    },
    {
      "cell_type": "code",
      "source": [
        "X_train, X_test, y_train, y_test = train_test_split(newdata[['ro1','ro2']], newdata['energy'], test_size=0.33, random_state=42)"
      ],
      "metadata": {
        "id": "d9laXB4E-05v"
      },
      "execution_count": null,
      "outputs": []
    },
    {
      "cell_type": "code",
      "source": [
        "forest.fit(X_train,y_train)"
      ],
      "metadata": {
        "colab": {
          "base_uri": "https://localhost:8080/"
        },
        "id": "Bj9fjTGk-5Ph",
        "outputId": "5409f746-11b0-4d66-f9c5-249e4e40b12d"
      },
      "execution_count": null,
      "outputs": [
        {
          "output_type": "execute_result",
          "data": {
            "text/plain": [
              "RandomForestRegressor()"
            ]
          },
          "metadata": {},
          "execution_count": 30
        }
      ]
    },
    {
      "cell_type": "code",
      "source": [
        "np.sum((forest.predict(X_test) - y_test)**2)/y_test.shape[0]"
      ],
      "metadata": {
        "colab": {
          "base_uri": "https://localhost:8080/"
        },
        "id": "-T70PLmC-8Gm",
        "outputId": "0c00d62a-fc98-4f75-bc2f-77c5db5a0991"
      },
      "execution_count": null,
      "outputs": [
        {
          "output_type": "execute_result",
          "data": {
            "text/plain": [
              "0.054933175128274093"
            ]
          },
          "metadata": {},
          "execution_count": 31
        }
      ]
    }
  ]
}