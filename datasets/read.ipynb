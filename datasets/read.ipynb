{
 "cells": [
  {
   "cell_type": "code",
   "execution_count": 1,
   "id": "08a0ee6e-36a8-4d5b-8187-4d905fa0a0bb",
   "metadata": {},
   "outputs": [
    {
     "data": {
      "application/vnd.jupyter.widget-view+json": {
       "model_id": "332c6e0fed994686954419bdd45edba0",
       "version_major": 2,
       "version_minor": 0
      },
      "text/plain": []
     },
     "metadata": {},
     "output_type": "display_data"
    }
   ],
   "source": [
    "import pickle\n",
    "import gzip\n",
    "import pandas as pd\n",
    "import numpy as np\n",
    "from pymatgen.util import coord\n",
    "import nglview"
   ]
  },
  {
   "cell_type": "code",
   "execution_count": 2,
   "id": "3676740c-defd-4b91-be4f-2b666c0dcd62",
   "metadata": {},
   "outputs": [],
   "source": [
    "with gzip.open('data.pickle.gz', 'rb') as fh:\n",
    "    data = pickle.load(fh, )"
   ]
  },
  {
   "cell_type": "code",
   "execution_count": 3,
   "id": "f78abc94-74d1-4fa6-a924-f4ca3bda1404",
   "metadata": {},
   "outputs": [
    {
     "data": {
      "text/plain": [
       "(5933, 11)"
      ]
     },
     "execution_count": 3,
     "metadata": {},
     "output_type": "execute_result"
    }
   ],
   "source": [
    "data.shape"
   ]
  },
  {
   "cell_type": "code",
   "execution_count": 4,
   "id": "8bb329c4-4f53-42be-8225-9478de9fbea3",
   "metadata": {},
   "outputs": [
    {
     "data": {
      "text/html": [
       "<div>\n",
       "<style scoped>\n",
       "    .dataframe tbody tr th:only-of-type {\n",
       "        vertical-align: middle;\n",
       "    }\n",
       "\n",
       "    .dataframe tbody tr th {\n",
       "        vertical-align: top;\n",
       "    }\n",
       "\n",
       "    .dataframe thead th {\n",
       "        text-align: right;\n",
       "    }\n",
       "</style>\n",
       "<table border=\"1\" class=\"dataframe\">\n",
       "  <thead>\n",
       "    <tr style=\"text-align: right;\">\n",
       "      <th></th>\n",
       "      <th>descriptor_id</th>\n",
       "      <th>energy</th>\n",
       "      <th>energy_per_atom</th>\n",
       "      <th>fermi_level</th>\n",
       "      <th>homo</th>\n",
       "      <th>lumo</th>\n",
       "      <th>initial_structure</th>\n",
       "      <th>defect_representation</th>\n",
       "      <th>formation_energy</th>\n",
       "      <th>formation_energy_per_site</th>\n",
       "      <th>band_gap</th>\n",
       "    </tr>\n",
       "    <tr>\n",
       "      <th>_id</th>\n",
       "      <th></th>\n",
       "      <th></th>\n",
       "      <th></th>\n",
       "      <th></th>\n",
       "      <th></th>\n",
       "      <th></th>\n",
       "      <th></th>\n",
       "      <th></th>\n",
       "      <th></th>\n",
       "      <th></th>\n",
       "      <th></th>\n",
       "    </tr>\n",
       "  </thead>\n",
       "  <tbody>\n",
       "    <tr>\n",
       "      <th>6141cf0efbfd4bd9ab2c2f7e</th>\n",
       "      <td>6141cf0efbfd4bd9ab2c2f7c</td>\n",
       "      <td>-1391.3404</td>\n",
       "      <td>-7.284505</td>\n",
       "      <td>-0.199707</td>\n",
       "      <td>-0.6754</td>\n",
       "      <td>0.4698</td>\n",
       "      <td>[[1.27612629e-07 1.84192955e+00 3.71975100e+00...</td>\n",
       "      <td>[[-7.98855051 17.50569919  5.28204642] X0+]</td>\n",
       "      <td>2.6457</td>\n",
       "      <td>2.64570</td>\n",
       "      <td>1.1452</td>\n",
       "    </tr>\n",
       "    <tr>\n",
       "      <th>6141cf0f51c1cbd9654b8870</th>\n",
       "      <td>6141cf0e51c1cbd9654b886e</td>\n",
       "      <td>-1384.5528</td>\n",
       "      <td>-7.287120</td>\n",
       "      <td>-0.220627</td>\n",
       "      <td>-0.6852</td>\n",
       "      <td>0.3991</td>\n",
       "      <td>[[1.27612629e-07 1.84192955e+00 3.71975100e+00...</td>\n",
       "      <td>[[14.34365939  6.45412142  2.15745558] X0+, [9...</td>\n",
       "      <td>5.3063</td>\n",
       "      <td>2.65315</td>\n",
       "      <td>1.0843</td>\n",
       "    </tr>\n",
       "    <tr>\n",
       "      <th>6141cf0fe689ecc4c43cdd4b</th>\n",
       "      <td>6141cf0fe689ecc4c43cdd49</td>\n",
       "      <td>-1397.1961</td>\n",
       "      <td>-7.277063</td>\n",
       "      <td>-0.183537</td>\n",
       "      <td>-0.6931</td>\n",
       "      <td>1.1102</td>\n",
       "      <td>[[1.27612629e-07 1.84192955e+00 3.71975100e+00...</td>\n",
       "      <td>[[ 4.78547342 17.49833154  2.15486663] Se]</td>\n",
       "      <td>0.2790</td>\n",
       "      <td>0.27900</td>\n",
       "      <td>1.8033</td>\n",
       "    </tr>\n",
       "    <tr>\n",
       "      <th>6141cf10b842c2e72e2f2d44</th>\n",
       "      <td>6141cf10b842c2e72e2f2d42</td>\n",
       "      <td>-1396.2576</td>\n",
       "      <td>-7.272175</td>\n",
       "      <td>-0.179802</td>\n",
       "      <td>-0.6916</td>\n",
       "      <td>1.1179</td>\n",
       "      <td>[[1.27612629e-07 1.84192955e+00 3.71975100e+00...</td>\n",
       "      <td>[[ 9.57094697 20.26122598  2.15486663] Se, [20...</td>\n",
       "      <td>0.5795</td>\n",
       "      <td>0.28975</td>\n",
       "      <td>1.8095</td>\n",
       "    </tr>\n",
       "    <tr>\n",
       "      <th>6141cf1051c1cbd9654b8872</th>\n",
       "      <td>6141cf0e51c1cbd9654b886e</td>\n",
       "      <td>-1384.5327</td>\n",
       "      <td>-7.287014</td>\n",
       "      <td>-0.213190</td>\n",
       "      <td>-0.6718</td>\n",
       "      <td>0.4384</td>\n",
       "      <td>[[1.27612629e-07 1.84192955e+00 3.71975100e+00...</td>\n",
       "      <td>[[ 7.96302799 17.50569919  2.15745558] X0+, [-...</td>\n",
       "      <td>5.3264</td>\n",
       "      <td>2.66320</td>\n",
       "      <td>1.1102</td>\n",
       "    </tr>\n",
       "  </tbody>\n",
       "</table>\n",
       "</div>"
      ],
      "text/plain": [
       "                                     descriptor_id     energy  \\\n",
       "_id                                                             \n",
       "6141cf0efbfd4bd9ab2c2f7e  6141cf0efbfd4bd9ab2c2f7c -1391.3404   \n",
       "6141cf0f51c1cbd9654b8870  6141cf0e51c1cbd9654b886e -1384.5528   \n",
       "6141cf0fe689ecc4c43cdd4b  6141cf0fe689ecc4c43cdd49 -1397.1961   \n",
       "6141cf10b842c2e72e2f2d44  6141cf10b842c2e72e2f2d42 -1396.2576   \n",
       "6141cf1051c1cbd9654b8872  6141cf0e51c1cbd9654b886e -1384.5327   \n",
       "\n",
       "                          energy_per_atom  fermi_level    homo    lumo  \\\n",
       "_id                                                                      \n",
       "6141cf0efbfd4bd9ab2c2f7e        -7.284505    -0.199707 -0.6754  0.4698   \n",
       "6141cf0f51c1cbd9654b8870        -7.287120    -0.220627 -0.6852  0.3991   \n",
       "6141cf0fe689ecc4c43cdd4b        -7.277063    -0.183537 -0.6931  1.1102   \n",
       "6141cf10b842c2e72e2f2d44        -7.272175    -0.179802 -0.6916  1.1179   \n",
       "6141cf1051c1cbd9654b8872        -7.287014    -0.213190 -0.6718  0.4384   \n",
       "\n",
       "                                                          initial_structure  \\\n",
       "_id                                                                           \n",
       "6141cf0efbfd4bd9ab2c2f7e  [[1.27612629e-07 1.84192955e+00 3.71975100e+00...   \n",
       "6141cf0f51c1cbd9654b8870  [[1.27612629e-07 1.84192955e+00 3.71975100e+00...   \n",
       "6141cf0fe689ecc4c43cdd4b  [[1.27612629e-07 1.84192955e+00 3.71975100e+00...   \n",
       "6141cf10b842c2e72e2f2d44  [[1.27612629e-07 1.84192955e+00 3.71975100e+00...   \n",
       "6141cf1051c1cbd9654b8872  [[1.27612629e-07 1.84192955e+00 3.71975100e+00...   \n",
       "\n",
       "                                                      defect_representation  \\\n",
       "_id                                                                           \n",
       "6141cf0efbfd4bd9ab2c2f7e        [[-7.98855051 17.50569919  5.28204642] X0+]   \n",
       "6141cf0f51c1cbd9654b8870  [[14.34365939  6.45412142  2.15745558] X0+, [9...   \n",
       "6141cf0fe689ecc4c43cdd4b         [[ 4.78547342 17.49833154  2.15486663] Se]   \n",
       "6141cf10b842c2e72e2f2d44  [[ 9.57094697 20.26122598  2.15486663] Se, [20...   \n",
       "6141cf1051c1cbd9654b8872  [[ 7.96302799 17.50569919  2.15745558] X0+, [-...   \n",
       "\n",
       "                          formation_energy  formation_energy_per_site  \\\n",
       "_id                                                                     \n",
       "6141cf0efbfd4bd9ab2c2f7e            2.6457                    2.64570   \n",
       "6141cf0f51c1cbd9654b8870            5.3063                    2.65315   \n",
       "6141cf0fe689ecc4c43cdd4b            0.2790                    0.27900   \n",
       "6141cf10b842c2e72e2f2d44            0.5795                    0.28975   \n",
       "6141cf1051c1cbd9654b8872            5.3264                    2.66320   \n",
       "\n",
       "                          band_gap  \n",
       "_id                                 \n",
       "6141cf0efbfd4bd9ab2c2f7e    1.1452  \n",
       "6141cf0f51c1cbd9654b8870    1.0843  \n",
       "6141cf0fe689ecc4c43cdd4b    1.8033  \n",
       "6141cf10b842c2e72e2f2d44    1.8095  \n",
       "6141cf1051c1cbd9654b8872    1.1102  "
      ]
     },
     "execution_count": 4,
     "metadata": {},
     "output_type": "execute_result"
    }
   ],
   "source": [
    "\n",
    "data.head()"
   ]
  },
  {
   "cell_type": "code",
   "execution_count": 5,
   "id": "8b6b3e50-ee2d-482a-b244-fdaae91a0b37",
   "metadata": {},
   "outputs": [
    {
     "data": {
      "text/plain": [
       "-7.297261052631578"
      ]
     },
     "execution_count": 5,
     "metadata": {},
     "output_type": "execute_result"
    }
   ],
   "source": [
    "data.energy_per_atom.min()"
   ]
  },
  {
   "cell_type": "code",
   "execution_count": 6,
   "id": "ce2b1660-8433-4922-9169-22f4cdc999fc",
   "metadata": {},
   "outputs": [],
   "source": [
    "s0 = data.iloc[299].initial_structure"
   ]
  },
  {
   "cell_type": "code",
   "execution_count": 7,
   "id": "60cf1341-2773-4c92-b1e8-09306b61beb2",
   "metadata": {},
   "outputs": [
    {
     "data": {
      "text/plain": [
       "Lattice\n",
       "    abc : 25.5225256 25.5225256 14.879004\n",
       " angles : 90.0 90.0 119.99999999999999\n",
       " volume : 8393.668021812642\n",
       "      A : 25.5225256 0.0 1.5628039641098191e-15\n",
       "      B : -12.761262799999994 22.10315553833868 1.5628039641098191e-15\n",
       "      C : 0.0 0.0 14.879004"
      ]
     },
     "execution_count": 7,
     "metadata": {},
     "output_type": "execute_result"
    }
   ],
   "source": [
    "s0.lattice"
   ]
  },
  {
   "cell_type": "code",
   "execution_count": 13,
   "id": "179b1382-3b8a-4968-8794-274c4a776614",
   "metadata": {},
   "outputs": [],
   "source": [
    "d0 = data.iloc[299].defect_representation"
   ]
  },
  {
   "cell_type": "code",
   "execution_count": 14,
   "id": "2b1a0e04-2c77-49f5-9f41-7f33e77ed659",
   "metadata": {},
   "outputs": [
    {
     "data": {
      "text/plain": [
       "Structure Summary\n",
       "Lattice\n",
       "    abc : 25.5225256 25.5225256 14.879004\n",
       " angles : 90.0 90.0 119.99999999999999\n",
       " volume : 8393.668021812642\n",
       "      A : 25.5225256 0.0 1.5628039641098191e-15\n",
       "      B : -12.761262799999994 22.10315553833868 1.5628039641098191e-15\n",
       "      C : 0.0 0.0 14.879004\n",
       "PeriodicSite: X0+ (20.7498, 4.5975, 3.7198) [0.9170, 0.2080, 0.2500]\n",
       "PeriodicSite: X0+ (22.3194, 3.6912, 2.1575) [0.9580, 0.1670, 0.1450]"
      ]
     },
     "execution_count": 14,
     "metadata": {},
     "output_type": "execute_result"
    }
   ],
   "source": [
    "d0"
   ]
  },
  {
   "cell_type": "code",
   "execution_count": 15,
   "id": "bdb0af2b-1de4-4acd-8c06-57709dbe9f73",
   "metadata": {},
   "outputs": [
    {
     "data": {
      "text/plain": [
       "(PeriodicSite: X0+ (20.7498, 4.5975, 3.7198) [0.9170, 0.2080, 0.2500],\n",
       " PeriodicSite: X0+ (22.3194, 3.6912, 2.1575) [0.9580, 0.1670, 0.1450])"
      ]
     },
     "execution_count": 15,
     "metadata": {},
     "output_type": "execute_result"
    }
   ],
   "source": [
    "d0[0], d0[1]"
   ]
  },
  {
   "cell_type": "code",
   "execution_count": 16,
   "id": "20a90383-faae-416e-9494-cc2f04a5dffd",
   "metadata": {},
   "outputs": [
    {
     "data": {
      "text/plain": [
       "False"
      ]
     },
     "execution_count": 16,
     "metadata": {},
     "output_type": "execute_result"
    }
   ],
   "source": [
    "d0[0].is_periodic_image(d0[1])"
   ]
  },
  {
   "cell_type": "code",
   "execution_count": 17,
   "id": "f7879f43-2025-408f-864a-a77f79b3527f",
   "metadata": {},
   "outputs": [
    {
     "data": {
      "text/plain": [
       "array([-0.041,  0.041,  0.105])"
      ]
     },
     "execution_count": 17,
     "metadata": {},
     "output_type": "execute_result"
    }
   ],
   "source": [
    "coord.pbc_diff(d0[0].frac_coords, d0[1].frac_coords)"
   ]
  },
  {
   "cell_type": "code",
   "execution_count": 18,
   "id": "387c3741-7fd4-4e13-8f92-e4e7d0db0f18",
   "metadata": {},
   "outputs": [
    {
     "data": {
      "text/plain": [
       "PeriodicSite: X0+ (20.7498, 4.5975, 3.7198) [0.9170, 0.2080, 0.2500]"
      ]
     },
     "execution_count": 18,
     "metadata": {},
     "output_type": "execute_result"
    }
   ],
   "source": [
    "d0[0].to_unit_cell()"
   ]
  },
  {
   "cell_type": "code",
   "execution_count": 19,
   "id": "ace7888f-768f-470c-8b68-1377a049760e",
   "metadata": {},
   "outputs": [
    {
     "name": "stdout",
     "output_type": "stream",
     "text": [
      "The spacegroup is Cm\n"
     ]
    }
   ],
   "source": [
    "from pymatgen.symmetry.analyzer import SpacegroupAnalyzer\n",
    "finder = SpacegroupAnalyzer(s0)\n",
    "print(\"The spacegroup is {}\".format(finder.get_space_group_symbol()))"
   ]
  },
  {
   "cell_type": "code",
   "execution_count": 20,
   "id": "8d127774-00cc-45f5-8216-6b7fb382afdb",
   "metadata": {},
   "outputs": [],
   "source": [
    "# j = s0.to_json()\n",
    "# with open(\"s0.json\", \"w\") as fh:\n",
    "#     fh.write(j)"
   ]
  },
  {
   "cell_type": "code",
   "execution_count": 27,
   "id": "f0899758-dbca-48c2-8cca-881ab051cde2",
   "metadata": {},
   "outputs": [],
   "source": [
    "# https://gist.github.com/lan496/3f60b6474750a6fd2b4237e820fbfea4\n",
    "def plot3d(structure, spacefill=True, show_axes=True):\n",
    "    from itertools import product\n",
    "    from pymatgen.core import Structure\n",
    "    from pymatgen.core.sites import PeriodicSite\n",
    "    \n",
    "    eps = 1e-8\n",
    "    sites = []\n",
    "    for site in structure:\n",
    "        species = site.species\n",
    "        frac_coords = np.remainder(site.frac_coords, 1)\n",
    "        for jimage in product([0, 1 - eps], repeat=3):\n",
    "            new_frac_coords = frac_coords + np.array(jimage)\n",
    "            if np.all(new_frac_coords < 1 + eps):\n",
    "                new_site = PeriodicSite(species=species, coords=new_frac_coords, lattice=structure.lattice)\n",
    "                sites.append(new_site)\n",
    "    structure_display = Structure.from_sites(sites)\n",
    "    \n",
    "    view = nglview.show_pymatgen(structure_display)\n",
    "    view.add_unitcell()\n",
    "    \n",
    "    if spacefill:\n",
    "        view.add_spacefill(radius_type='vdw', radius=0.5, color_scheme='element')\n",
    "        view.remove_ball_and_stick()\n",
    "    else:\n",
    "        view.add_ball_and_stick()\n",
    "        \n",
    "    if show_axes:\n",
    "        view.shape.add_arrow([-4, -4, -4], [0, -4, -4], [1, 0, 0], 0.5, \"x-axis\")\n",
    "        view.shape.add_arrow([-4, -4, -4], [-4, 0, -4], [0, 1, 0], 0.5, \"y-axis\")\n",
    "        view.shape.add_arrow([-4, -4, -4], [-4, -4, 0], [0, 0, 1], 0.5, \"z-axis\")\n",
    "        \n",
    "    # view.camera = \"perspective\"\n",
    "    return view"
   ]
  },
  {
   "cell_type": "code",
   "execution_count": 31,
   "id": "c2060b54-2922-43c2-8cd5-7f64e57eb763",
   "metadata": {},
   "outputs": [
    {
     "data": {
      "application/vnd.jupyter.widget-view+json": {
       "model_id": "15bdca38127a418db23176fafae2e708",
       "version_major": 2,
       "version_minor": 0
      },
      "text/plain": [
       "NGLWidget()"
      ]
     },
     "metadata": {},
     "output_type": "display_data"
    }
   ],
   "source": [
    "plot3d(s0)"
   ]
  },
  {
   "cell_type": "code",
   "execution_count": 22,
   "id": "40cbf4f1-e6ad-41dc-af78-ffcefa114a9f",
   "metadata": {},
   "outputs": [],
   "source": [
    "from pymatgen.analysis import local_env"
   ]
  },
  {
   "cell_type": "code",
   "execution_count": 23,
   "id": "184355ac-6947-47fd-b415-d0f2bd328392",
   "metadata": {},
   "outputs": [],
   "source": [
    "from pymatgen.core import Structure\n",
    "def add_defects_to_structure(state):\n",
    "    sites = state.initial_structure.sites.copy()\n",
    "    defects = state.defect_representation.sites\n",
    "    for site in defects:\n",
    "        if site.species_string == 'X0+':\n",
    "            sites.append(site)\n",
    "    return Structure.from_sites(sites)\n",
    "\n"
   ]
  },
  {
   "cell_type": "code",
   "execution_count": 26,
   "id": "8eab8d7e-fa08-4bd3-80df-12ff3103861e",
   "metadata": {},
   "outputs": [
    {
     "data": {
      "application/vnd.jupyter.widget-view+json": {
       "model_id": "c2982dfef30b42c5bac69e58d77c4055",
       "version_major": 2,
       "version_minor": 0
      },
      "text/plain": [
       "NGLWidget()"
      ]
     },
     "metadata": {},
     "output_type": "display_data"
    }
   ],
   "source": [
    "nglview.show_pymatgen(add_defects_to_structure(data.iloc[80]))"
   ]
  },
  {
   "cell_type": "code",
   "execution_count": 35,
   "id": "fe8316fe-ee88-4af3-9710-43b99aa382a1",
   "metadata": {},
   "outputs": [
    {
     "data": {
      "application/vnd.jupyter.widget-view+json": {
       "model_id": "82585fc1d81a4232b2fbf5f5c0fe06c4",
       "version_major": 2,
       "version_minor": 0
      },
      "text/plain": [
       "NGLWidget()"
      ]
     },
     "metadata": {},
     "output_type": "display_data"
    }
   ],
   "source": [
    "nglview.show_pymatgen(add_defects_to_structure(data.iloc[180]))"
   ]
  },
  {
   "cell_type": "code",
   "execution_count": 41,
   "id": "6516abb6-5e4d-4625-8965-3755f0c17c92",
   "metadata": {},
   "outputs": [],
   "source": [
    "br = local_env.BrunnerNN_real() "
   ]
  },
  {
   "cell_type": "code",
   "execution_count": 49,
   "id": "3bc10068-815d-4226-9851-cdd77b1c27ea",
   "metadata": {},
   "outputs": [],
   "source": [
    "l = br.get_nn_info(s0, 0)"
   ]
  },
  {
   "cell_type": "code",
   "execution_count": 50,
   "id": "f8232c50-ea58-47fe-b42e-6c9fef193e8d",
   "metadata": {},
   "outputs": [
    {
     "data": {
      "text/plain": [
       "18"
      ]
     },
     "execution_count": 50,
     "metadata": {},
     "output_type": "execute_result"
    }
   ],
   "source": [
    "len(l)"
   ]
  },
  {
   "cell_type": "code",
   "execution_count": 48,
   "id": "7a5d7385-82a5-413d-af03-91c3b629c680",
   "metadata": {},
   "outputs": [
    {
     "data": {
      "text/plain": [
       "PeriodicSite: Mo (-1.5952, 4.6048, 3.7198) [0.0417, 0.2083, 0.2500]"
      ]
     },
     "execution_count": 48,
     "metadata": {},
     "output_type": "execute_result"
    }
   ],
   "source": [
    "s0[1]"
   ]
  },
  {
   "cell_type": "code",
   "execution_count": 51,
   "id": "fc5ce3c1-a605-4ed4-8ba7-c894afd1ccb1",
   "metadata": {},
   "outputs": [
    {
     "data": {
      "text/plain": [
       "[{'site': PeriodicSite: S (-1.5952, 0.9210, 2.1549) [-0.0417, 0.0417, 0.1448],\n",
       "  'image': (-1, 0, 0),\n",
       "  'weight': 0.9999998606112003,\n",
       "  'site_index': 121},\n",
       " {'site': PeriodicSite: S (-0.0000, -1.8419, 2.1549) [-0.0417, -0.0833, 0.1448],\n",
       "  'image': (-1, -1, 0),\n",
       "  'weight': 0.6038620537980465,\n",
       "  'site_index': 128},\n",
       " {'site': PeriodicSite: S (-1.5952, 0.9210, 5.2846) [-0.0417, 0.0417, 0.3552],\n",
       "  'image': (-1, 0, 0),\n",
       "  'weight': 0.9999998606112004,\n",
       "  'site_index': 185},\n",
       " {'site': PeriodicSite: S (-0.0000, -1.8419, 5.2846) [-0.0417, -0.0833, 0.3552],\n",
       "  'image': (-1, -1, 0),\n",
       "  'weight': 0.6038620537980466,\n",
       "  'site_index': 191},\n",
       " {'site': PeriodicSite: Mo (-1.5952, -0.9210, 3.7198) [-0.0833, -0.0417, 0.2500],\n",
       "  'image': (-1, -1, 0),\n",
       "  'weight': 0.7575843782493873,\n",
       "  'site_index': 63},\n",
       " {'site': PeriodicSite: S (-0.0000, 3.6839, 2.1549) [0.0833, 0.1667, 0.1448],\n",
       "  'image': (0, 0, 0),\n",
       "  'weight': 0.9999998606112008,\n",
       "  'site_index': 67},\n",
       " {'site': PeriodicSite: S (-3.1903, 3.6839, 2.1549) [-0.0417, 0.1667, 0.1448],\n",
       "  'image': (-1, 0, 0),\n",
       "  'weight': 0.6038619924117954,\n",
       "  'site_index': 122},\n",
       " {'site': PeriodicSite: S (-0.0000, 3.6839, 5.2846) [0.0833, 0.1667, 0.3552],\n",
       "  'image': (0, 0, 0),\n",
       "  'weight': 0.9999998606112012,\n",
       "  'site_index': 130},\n",
       " {'site': PeriodicSite: Mo (-1.5952, 4.6048, 3.7198) [0.0417, 0.2083, 0.2500],\n",
       "  'image': (0, 0, 0),\n",
       "  'weight': 0.7575843782493874,\n",
       "  'site_index': 1},\n",
       " {'site': PeriodicSite: S (-3.1903, 3.6839, 5.2846) [-0.0417, 0.1667, 0.3552],\n",
       "  'image': (-1, 0, 0),\n",
       "  'weight': 0.6038619924117954,\n",
       "  'site_index': 186},\n",
       " {'site': PeriodicSite: Mo (-3.1903, 1.8419, 3.7198) [-0.0833, 0.0833, 0.2500],\n",
       "  'image': (-1, 0, 0),\n",
       "  'weight': 0.7575843782493871,\n",
       "  'site_index': 56},\n",
       " {'site': PeriodicSite: S (1.5952, 0.9210, 2.1549) [0.0833, 0.0417, 0.1448],\n",
       "  'image': (0, 0, 0),\n",
       "  'weight': 0.9999999999999997,\n",
       "  'site_index': 66},\n",
       " {'site': PeriodicSite: S (1.5952, 0.9210, 5.2846) [0.0833, 0.0417, 0.3552],\n",
       "  'image': (0, 0, 0),\n",
       "  'weight': 1.0,\n",
       "  'site_index': 129},\n",
       " {'site': PeriodicSite: Mo (1.5952, -0.9210, 3.7198) [0.0417, -0.0417, 0.2500],\n",
       "  'image': (0, -1, 0),\n",
       "  'weight': 0.7575843782493872,\n",
       "  'site_index': 7},\n",
       " {'site': PeriodicSite: S (3.1903, 3.6839, 2.1549) [0.2083, 0.1667, 0.1448],\n",
       "  'image': (0, 0, 0),\n",
       "  'weight': 0.6038620537980466,\n",
       "  'site_index': 75},\n",
       " {'site': PeriodicSite: S (3.1903, 3.6839, 5.2846) [0.2083, 0.1667, 0.3552],\n",
       "  'image': (0, 0, 0),\n",
       "  'weight': 0.6038620537980466,\n",
       "  'site_index': 138},\n",
       " {'site': PeriodicSite: Mo (1.5952, 4.6048, 3.7198) [0.1667, 0.2083, 0.2500],\n",
       "  'image': (0, 0, 0),\n",
       "  'weight': 0.7575843782493873,\n",
       "  'site_index': 9},\n",
       " {'site': PeriodicSite: Mo (3.1903, 1.8419, 3.7198) [0.1667, 0.0833, 0.2500],\n",
       "  'image': (0, 0, 0),\n",
       "  'weight': 0.757584378249388,\n",
       "  'site_index': 8}]"
      ]
     },
     "execution_count": 51,
     "metadata": {},
     "output_type": "execute_result"
    }
   ],
   "source": [
    "l"
   ]
  },
  {
   "cell_type": "code",
   "execution_count": 58,
   "id": "26ab3444-2eba-4843-aeae-4c9e2e849335",
   "metadata": {},
   "outputs": [],
   "source": [
    "l0 = [s for s in l if s['image'][0] == 0 and s['image'][1] == 0 and s['image'][2] == 0]"
   ]
  },
  {
   "cell_type": "code",
   "execution_count": 60,
   "id": "d3cff1d1-0518-41f1-8e0e-7b434f20f51a",
   "metadata": {},
   "outputs": [
    {
     "data": {
      "text/plain": [
       "9"
      ]
     },
     "execution_count": 60,
     "metadata": {},
     "output_type": "execute_result"
    }
   ],
   "source": [
    "len(l0)"
   ]
  },
  {
   "cell_type": "code",
   "execution_count": 61,
   "id": "a3903dc7-d036-47ab-93da-db621916ea23",
   "metadata": {},
   "outputs": [
    {
     "data": {
      "text/plain": [
       "[{'site': PeriodicSite: S (-0.0000, 3.6839, 2.1549) [0.0833, 0.1667, 0.1448],\n",
       "  'image': (0, 0, 0),\n",
       "  'weight': 0.9999998606112008,\n",
       "  'site_index': 67},\n",
       " {'site': PeriodicSite: S (-0.0000, 3.6839, 5.2846) [0.0833, 0.1667, 0.3552],\n",
       "  'image': (0, 0, 0),\n",
       "  'weight': 0.9999998606112012,\n",
       "  'site_index': 130},\n",
       " {'site': PeriodicSite: Mo (-1.5952, 4.6048, 3.7198) [0.0417, 0.2083, 0.2500],\n",
       "  'image': (0, 0, 0),\n",
       "  'weight': 0.7575843782493874,\n",
       "  'site_index': 1},\n",
       " {'site': PeriodicSite: S (1.5952, 0.9210, 2.1549) [0.0833, 0.0417, 0.1448],\n",
       "  'image': (0, 0, 0),\n",
       "  'weight': 0.9999999999999997,\n",
       "  'site_index': 66},\n",
       " {'site': PeriodicSite: S (1.5952, 0.9210, 5.2846) [0.0833, 0.0417, 0.3552],\n",
       "  'image': (0, 0, 0),\n",
       "  'weight': 1.0,\n",
       "  'site_index': 129},\n",
       " {'site': PeriodicSite: S (3.1903, 3.6839, 2.1549) [0.2083, 0.1667, 0.1448],\n",
       "  'image': (0, 0, 0),\n",
       "  'weight': 0.6038620537980466,\n",
       "  'site_index': 75},\n",
       " {'site': PeriodicSite: S (3.1903, 3.6839, 5.2846) [0.2083, 0.1667, 0.3552],\n",
       "  'image': (0, 0, 0),\n",
       "  'weight': 0.6038620537980466,\n",
       "  'site_index': 138},\n",
       " {'site': PeriodicSite: Mo (1.5952, 4.6048, 3.7198) [0.1667, 0.2083, 0.2500],\n",
       "  'image': (0, 0, 0),\n",
       "  'weight': 0.7575843782493873,\n",
       "  'site_index': 9},\n",
       " {'site': PeriodicSite: Mo (3.1903, 1.8419, 3.7198) [0.1667, 0.0833, 0.2500],\n",
       "  'image': (0, 0, 0),\n",
       "  'weight': 0.757584378249388,\n",
       "  'site_index': 8}]"
      ]
     },
     "execution_count": 61,
     "metadata": {},
     "output_type": "execute_result"
    }
   ],
   "source": [
    "l0"
   ]
  },
  {
   "cell_type": "code",
   "execution_count": null,
   "id": "797bd9bf-53bc-47a1-b93b-d1830d6aaaed",
   "metadata": {},
   "outputs": [],
   "source": []
  }
 ],
 "metadata": {
  "kernelspec": {
   "display_name": "Python 3 (ipykernel)",
   "language": "python",
   "name": "python3"
  },
  "language_info": {
   "codemirror_mode": {
    "name": "ipython",
    "version": 3
   },
   "file_extension": ".py",
   "mimetype": "text/x-python",
   "name": "python",
   "nbconvert_exporter": "python",
   "pygments_lexer": "ipython3",
   "version": "3.8.9"
  }
 },
 "nbformat": 4,
 "nbformat_minor": 5
}
